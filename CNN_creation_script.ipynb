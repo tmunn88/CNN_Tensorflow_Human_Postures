{
 "cells": [
  {
   "cell_type": "markdown",
   "metadata": {},
   "source": [
    "## Detecting Human Posture Using a Convolutional Deep Neural Network"
   ]
  },
  {
   "cell_type": "markdown",
   "metadata": {},
   "source": [
    "### Tensorflow Implementation"
   ]
  },
  {
   "cell_type": "markdown",
   "metadata": {},
   "source": [
    "Authors: Tiffany J Munn (tiffany.munn@du.edu)* and Tai Chen Ye (tai-chen.ye@du.edu)*\n",
    "\n",
    "*University of Denver: Department of Computer Science and Engineering\n",
    "\n",
    "Last Update: August 27th, 2020\n",
    "\n",
    "Note:\n",
    "Many functions used in the code below were repurposed from:\n",
    "https://github.com/rasbt/python-machine-learning-book-3rd-edition Copyright (c) 2019 Sebastian Raschka"
   ]
  },
  {
   "cell_type": "code",
   "execution_count": 1,
   "metadata": {},
   "outputs": [],
   "source": [
    "from IPython.display import Image\n",
    "%matplotlib inline\n",
    "import matplotlib.pyplot as plt\n",
    "import tensorflow as tf\n",
    "import numpy as np\n",
    "import pandas as pd\n",
    "import pathlib\n",
    "import tensorflow_datasets as tfds\n",
    "import matplotlib.pyplot as plt\n",
    "import numpy as np\n",
    "import os\n",
    "import PIL\n",
    "from tensorflow import keras\n",
    "from tensorflow.keras import layers\n",
    "from tensorflow.keras.models import Sequential"
   ]
  },
  {
   "cell_type": "markdown",
   "metadata": {},
   "source": [
    "### Experiment Objective"
   ]
  },
  {
   "cell_type": "markdown",
   "metadata": {},
   "source": [
    "Create a deep learning neural network that can detect human posture from silhouettes. This dataset contains 1200 images for each of the following postures:\n",
    "\n",
    "    1. Sitting\n",
    "    2. Standing\n",
    "    3. Bending\n",
    "    4. Lying\n",
    "    \n",
    "The dataset comes with each image resized to the dimension of 512x512 px. Images have not been labeled directly but have been placed in respective class folders based off the posture in the image."
   ]
  },
  {
   "cell_type": "markdown",
   "metadata": {},
   "source": [
    "### Data Collection and Preprocessing"
   ]
  },
  {
   "cell_type": "markdown",
   "metadata": {},
   "source": [
    "Source: https://ieee-dataport.org/open-access/silhouettes-human-posture-recognition\n",
    "License: Creative Commons Attribution\n",
    "Details on the Terms of Use for this License: https://creativecommons.org/licenses/by/4.0/ and \n",
    "https://creativecommons.org/licenses/by/4.0/legalcode\n",
    "\n",
    "About IEEE Dataport\n",
    "\n",
    "\"IEEE developed IEEE DataPort to provide significant benefits to researchers, data analysts, and the global technical community. The platform offers free uploads of any dataset up to 2TB for those that need to retain and manage their valuable research data and it offers free access to the datasets on IEEE DataPort. The platform currently has over 425,000 global users and over 1,500 datasets and continues to provide value to researchers around the globe.\"\n",
    "\n",
    "I was required to create an account and agree to terms of use (https://creativecommons.org/licenses/by/4.0/) before being able to download the archive for free.\n",
    "\n",
    "Authors of Dataset: \n",
    "Abhishek Kumar (Indian Institute of Information Technology Kottayam) and Ebin Deni Raj (Indian Institute of Information Technology Kottayam)"
   ]
  },
  {
   "cell_type": "markdown",
   "metadata": {},
   "source": [
    "Note:\n",
    "Many functions used in the code below were repurposed from:\n",
    "https://github.com/rasbt/python-machine-learning-book-3rd-edition Copyright (c) 2019 Sebastian Raschka"
   ]
  },
  {
   "cell_type": "markdown",
   "metadata": {},
   "source": [
    "#### Creating an Input Pipeline"
   ]
  },
  {
   "cell_type": "markdown",
   "metadata": {},
   "source": [
    "#### Saving Image File List"
   ]
  },
  {
   "cell_type": "code",
   "execution_count": 2,
   "metadata": {},
   "outputs": [
    {
     "name": "stdout",
     "output_type": "stream",
     "text": [
      "Total Image Count: 4800\n"
     ]
    }
   ],
   "source": [
    "import pathlib\n",
    "data_dir = pathlib.Path('../Project03/Postures')\n",
    "image_count = len(list(data_dir.glob('*/*.jpg')))\n",
    "print(f'Total Image Count: {image_czzount}')"
   ]
  },
  {
   "cell_type": "markdown",
   "metadata": {},
   "source": [
    "#### Creating Train and Validation Arrays"
   ]
  },
  {
   "cell_type": "code",
   "execution_count": 3,
   "metadata": {},
   "outputs": [],
   "source": [
    "from sklearn.model_selection import train_test_split\n",
    "X= np.array(sorted([str(path) for path in data_dir.glob('*/*.jpg')]))\n",
    "y = np.array([0 if 'bending' in file \n",
    "          else 1 if 'lying' in file\n",
    "          else 2 if 'sitting' in file\n",
    "          else 3\n",
    "          for file in X])\n",
    "\n",
    "X_train, X_test, y_train, y_test = train_test_split(X, y, test_size=0.20, stratify=y, random_state=1, shuffle=True)"
   ]
  },
  {
   "cell_type": "markdown",
   "metadata": {},
   "source": [
    "#### Visualizing Our Training Data"
   ]
  },
  {
   "cell_type": "code",
   "execution_count": 4,
   "metadata": {},
   "outputs": [
    {
     "data": {
      "image/png": "[encoded data removed]",
      "text/plain": [
       "<Figure size 720x720 with 9 Axes>"
      ]
     },
     "metadata": {},
     "output_type": "display_data"
    }
   ],
   "source": [
    "X_train_example=X_train[:9]\n",
    "y_train_example=y_train[:9]\n",
    "labels_dict={0: 'bending', 1:'lying', 2: 'sitting', 3: 'standing'}\n",
    "\n",
    "fig = plt.figure(figsize=(10, 10))\n",
    "for i,file, in enumerate(X_train_example):\n",
    "    img_raw = tf.io.read_file(file)\n",
    "    img = tf.image.decode_image(img_raw)\n",
    "    ax = fig.add_subplot(3, 3, i+1)\n",
    "    ax.set_xticks([]); ax.set_yticks([])\n",
    "    ax.imshow(img)\n",
    "    ax.set_title(labels_dict[y_train_example[i]], size=12)\n",
    "    plt.subplots_adjust(top=1.5, bottom=1)\n",
    "    \n",
    "plt.show()"
   ]
  },
  {
   "cell_type": "markdown",
   "metadata": {},
   "source": [
    "#### Functions to Generate Batched Tensorflow Datasets from Arrays"
   ]
  },
  {
   "cell_type": "code",
   "execution_count": 14,
   "metadata": {},
   "outputs": [],
   "source": [
    "def load_and_preprocess(paths):\n",
    "    images=[]\n",
    "    for path in paths:\n",
    "        image = tf.io.read_file(path)\n",
    "        image = tf.image.decode_jpeg(image, channels=1)\n",
    "        image = tf.image.resize(image, [64, 64])\n",
    "        #this is a pixel normalization step\n",
    "        image /= 255.0\n",
    "        images.append(image)\n",
    "    return images\n",
    "\n",
    "def train_input_fn(x_train, y_train, batch_size):\n",
    "    x_train=load_and_preprocess(x_train)\n",
    "    dataset = tf.data.Dataset.from_tensor_slices(\n",
    "        ({'input-features':x_train}, y_train.reshape(-1, 1)))\n",
    "\n",
    "    # Shuffle, repeat, and batch the examples.\n",
    "    return dataset.shuffle(100).repeat().batch(batch_size)\n",
    "\n",
    "def eval_input_fn(x_test, y_test, batch_size):\n",
    "    x_test=load_and_preprocess(x_test)\n",
    "    if y_test is None:\n",
    "        dataset = tf.data.Dataset.from_tensor_slices(\n",
    "            {'input-features':x_test})   \n",
    "    else:\n",
    "        dataset = tf.data.Dataset.from_tensor_slices(\n",
    "            ({'input-features':x_test}, y_test.reshape(-1, 1)))\n",
    "\n",
    "    # Shuffle, repeat, and batch the examples.\n",
    "    return dataset.batch(batch_size)\n"
   ]
  },
  {
   "cell_type": "markdown",
   "metadata": {},
   "source": [
    "#### Demonstrating that Functions Do Output Tensorflow DS Batches"
   ]
  },
  {
   "cell_type": "code",
   "execution_count": 15,
   "metadata": {
    "scrolled": false
   },
   "outputs": [
    {
     "name": "stdout",
     "output_type": "stream",
     "text": [
      "<BatchDataset shapes: ({input-features: (None, 64, 64, 1)}, (None, 1)), types: ({input-features: tf.float32}, tf.int64)> \n",
      " <BatchDataset shapes: ({input-features: (None, 64, 64, 1)}, (None, 1)), types: ({input-features: tf.float32}, tf.int64)>\n"
     ]
    }
   ],
   "source": [
    "batch_size = 32\n",
    "demo_train=train_input_fn(X_train, y_train, batch_size)\n",
    "demo_val=eval_input_fn(X_test, y_test, batch_size)\n",
    "\n",
    "print(demo_train, '\\n', demo_val)"
   ]
  },
  {
   "cell_type": "markdown",
   "metadata": {},
   "source": [
    "### TensorFlow Model Creation"
   ]
  },
  {
   "cell_type": "markdown",
   "metadata": {},
   "source": [
    "#### Explaining Our Hyper-Parameter Choices"
   ]
  },
  {
   "cell_type": "markdown",
   "metadata": {},
   "source": [
    "#### Keras Initializers\n",
    "First, there are many Layer weight initializers in kernel_initializer. For example, the RandomNormal class generates tensors with a normal distribution.TruncatedNormal type makes a truncated normal distribution. Because the first step of rescaling value from 0 to 1, we should use the normal distribution or something very similar. Based on current standards for deep NN, we use Glorot Initialization. It initializes each weight with a small Gaussian value with mean=0 and variances are based on the fan-in and fan-out of the weight. This is the default for tf.keras.layers.Conv2D layers.\n",
    "\n",
    "Second, there are many Layer weight initializers in bias_initializer.In this part, we choose the Zeros class in the convolutional layers, which is the default.\n",
    "\n",
    "#### Keras Regularizers\n",
    "There are three methods in Keras Regularizers: L2(Ridge), L1(LASSO) and L1L2(Elastic Net regularization) First, L1 regularization adds an L1 penalty equal to the absolute value of the magnitude of coefficients.L2 regularization adds an L2 penalty equal to the square of the significance of coefficients. Elastic nets combine L1 & L2 methods.\n",
    "Second, applying L1 regularization does lead to models where the weights will get relatively small values, where they are simple. This is similar to using L2 regularization. However, contrary to L2, L1 regularization does not push your weights to be precisely zero. In other words, the L2 method could not be used in variable selection.\n",
    "Third, applying the L2 method could solve the multicollinearity problem Ridge Regression has n-dimension. Still, Lasso yields fewer dimensions comparatively, with very less decrease inaccuracy, which is suitable for building a production model.\n",
    "Therefore, L1L2(Elastic Net regularization) is the best method to combines these two methods: a middle ground between Ridge Regression and Lasso Regression. The regularization term is a simple mix of both Ridge and Lasso’s regularization terms.\n",
    "\n",
    "However, in practice we found that L2 regularization was more accurate than L1L2 and therefore implemented L2 regularization in our dense layers.\n",
    "\n",
    "#### Activations\n",
    "The activation function is between the input feeding the current neuron and its output going to the next layer.\n",
    "There are many non-linear activation functions like Sigmoid, tanh, ReLU, Leaky ReLU, Parametric ReLU, softmax, Swish.\n",
    "\n",
    "Typically, if we want to solve the classification problems, we could use the Sigmoid functions. However, Sigmoid functions have a problem when the vanishing gradient problem.\n",
    "\n",
    "Second, if the neural network has a dead neuron problem, Tanh functions would not work properly.\n",
    "\n",
    "Third, the ReLU activation function is widely used and is a default choice as it yields better results and functions well in hidden layers. Also, if the neural network exists in a case of dead neurons, leaky ReLU function could solve this problem.\n",
    "Finally, The ReLU method is, as of 2017, the most popular activation function for deep neural networks.\n",
    "Therefore, we implement the ReLU parameter in our convolutional and dense layers.\n",
    "\n",
    "#### Kernel Size\n",
    "We choose to use the kernel size (3,3) as it is standard for CNN. Another standard is 5X5 but in general it is good to start with a smaller kernel and work up if needed.\n",
    "\n",
    "#### Padding and Pooling\n",
    "\n",
    "To preserve the size of the height and width of the input images, we choose padding='same'. Then we decrease the spatial size using pooling layers as opposed to using valid padding which would decrease the volume of tensors in our NN.\n",
    "\n",
    "#### Strides\n",
    "Strides choosen was (1, 1) as a starting value. Further experimentation should be done to determine if this is the optimal value.\n",
    "\n",
    "#### Optimizer\n",
    "The adam optimizer is an extension to stochastic gradient descent and has been commonly adopted by many researchers for use in DNNs. In a paper titled “An overview of gradient descent optimization algorithms”, (https://arxiv.org/abs/1609.04747) Sebastian Ruder's says:\n",
    "\n",
    "    \"Insofar, RMSprop, Adadelta, and Adam are very similar algorithms that do well in similar circumstances. […] its bias-correction helps Adam slightly outperform RMSprop towards the end of optimization as gradients become sparser. Insofar, Adam might be the best overall choice.\"\n",
    "\n",
    "\n",
    "#### Loss Function\n",
    "\n",
    "Since our model deals with 4 classes, we implemented tf.keras.losses.SparseCategoricalCrossentropy in our compile method.\n",
    "\n",
    "#### Depth and Width of NN\n",
    "\n",
    "To prevent over-fitting, the depth of our first layer starts with filters=8 and builds up by power of 2 in each convolutional layer. We then flatten our data to reduce the width of the output. Two dense layers are added with decreasing units and a dropout layer in between. This again, helps to decrease our output width. This approach helps to deepen the input and reduce the width of the output of the NN."
   ]
  },
  {
   "cell_type": "code",
   "execution_count": 16,
   "metadata": {},
   "outputs": [
    {
     "data": {
      "text/plain": [
       "[NumericColumn(key='input-features:', shape=(64, 64, 1), default_value=None, dtype=tf.float32, normalizer_fn=None)]"
      ]
     },
     "execution_count": 16,
     "metadata": {},
     "output_type": "execute_result"
    }
   ],
   "source": [
    "#Define the feature columns\n",
    "features = [tf.feature_column.numeric_column(key='input-features:', shape=(64, 64, 1))]\n",
    "    \n",
    "features"
   ]
  },
  {
   "cell_type": "code",
   "execution_count": 25,
   "metadata": {},
   "outputs": [],
   "source": [
    "num_classes = 4\n",
    "\n",
    "model = tf.keras.Sequential([\n",
    "    tf.keras.layers.Input(shape=(64,64,1), name='input-features'),\n",
    "    tf.keras.layers.Conv2D(filters=8,strides=(1, 1), kernel_size=(3, 3),padding='same', activation='relu'),\n",
    "    tf.keras.layers.MaxPooling2D(),\n",
    "    tf.keras.layers.Conv2D(filters=16, strides=(1, 1), kernel_size=(3, 3), padding='same', activation='relu'),\n",
    "    tf.keras.layers.MaxPooling2D(pool_size=(2, 2)),\n",
    "    tf.keras.layers.Conv2D(filters=32, strides=(1, 1), kernel_size=(3, 3), padding='same', activation='relu'),\n",
    "    tf.keras.layers.MaxPooling2D(pool_size=(2, 2)),\n",
    "    tf.keras.layers.Flatten(),\n",
    "    tf.keras.layers.Dense(units=32, activation='relu', kernel_regularizer='l2'),\n",
    "    tf.keras.layers.Dropout(rate=0.5),\n",
    "    tf.keras.layers.Dense(units=16, activation='relu', kernel_regularizer='l2'),\n",
    "    tf.keras.layers.Dense(units=num_classes, activation='relu')\n",
    "])\n"
   ]
  },
  {
   "cell_type": "code",
   "execution_count": 26,
   "metadata": {},
   "outputs": [],
   "source": [
    "model.compile(optimizer='adam',\n",
    "              loss=tf.keras.losses.SparseCategoricalCrossentropy(from_logits=True),\n",
    "              metrics=['accuracy','categorical_accuracy'])"
   ]
  },
  {
   "cell_type": "code",
   "execution_count": 27,
   "metadata": {},
   "outputs": [
    {
     "name": "stdout",
     "output_type": "stream",
     "text": [
      "Model: \"sequential_3\"\n",
      "_________________________________________________________________\n",
      "Layer (type)                 Output Shape              Param #   \n",
      "=================================================================\n",
      "conv2d_9 (Conv2D)            (None, 64, 64, 8)         80        \n",
      "_________________________________________________________________\n",
      "max_pooling2d_9 (MaxPooling2 (None, 32, 32, 8)         0         \n",
      "_________________________________________________________________\n",
      "conv2d_10 (Conv2D)           (None, 32, 32, 16)        1168      \n",
      "_________________________________________________________________\n",
      "max_pooling2d_10 (MaxPooling (None, 16, 16, 16)        0         \n",
      "_________________________________________________________________\n",
      "conv2d_11 (Conv2D)           (None, 16, 16, 32)        4640      \n",
      "_________________________________________________________________\n",
      "max_pooling2d_11 (MaxPooling (None, 8, 8, 32)          0         \n",
      "_________________________________________________________________\n",
      "flatten_3 (Flatten)          (None, 2048)              0         \n",
      "_________________________________________________________________\n",
      "dense_9 (Dense)              (None, 32)                65568     \n",
      "_________________________________________________________________\n",
      "dropout_3 (Dropout)          (None, 32)                0         \n",
      "_________________________________________________________________\n",
      "dense_10 (Dense)             (None, 16)                528       \n",
      "_________________________________________________________________\n",
      "dense_11 (Dense)             (None, 4)                 68        \n",
      "=================================================================\n",
      "Total params: 72,052\n",
      "Trainable params: 72,052\n",
      "Non-trainable params: 0\n",
      "_________________________________________________________________\n"
     ]
    }
   ],
   "source": [
    "model.summary()"
   ]
  },
  {
   "cell_type": "markdown",
   "metadata": {},
   "source": [
    "### TensorFlow Estimator Creation and Training"
   ]
  },
  {
   "cell_type": "code",
   "execution_count": 28,
   "metadata": {},
   "outputs": [
    {
     "name": "stdout",
     "output_type": "stream",
     "text": [
      "INFO:tensorflow:Using default config.\n",
      "INFO:tensorflow:Using the Keras model provided.\n",
      "INFO:tensorflow:Using config: {'_model_dir': 'models/estimator-for-Postures/', '_tf_random_seed': None, '_save_summary_steps': 100, '_save_checkpoints_steps': None, '_save_checkpoints_secs': 600, '_session_config': allow_soft_placement: true\n",
      "graph_options {\n",
      "  rewrite_options {\n",
      "    meta_optimizer_iterations: ONE\n",
      "  }\n",
      "}\n",
      ", '_keep_checkpoint_max': 5, '_keep_checkpoint_every_n_hours': 10000, '_log_step_count_steps': 100, '_train_distribute': None, '_device_fn': None, '_protocol': None, '_eval_distribute': None, '_experimental_distribute': None, '_experimental_max_worker_delay_secs': None, '_session_creation_timeout_secs': 7200, '_service': None, '_cluster_spec': ClusterSpec({}), '_task_type': 'worker', '_task_id': 0, '_global_id_in_cluster': 0, '_master': '', '_evaluation_master': '', '_is_chief': True, '_num_ps_replicas': 0, '_num_worker_replicas': 1}\n",
      "INFO:tensorflow:Calling model_fn.\n",
      "INFO:tensorflow:Done calling model_fn.\n",
      "INFO:tensorflow:Create CheckpointSaverHook.\n",
      "INFO:tensorflow:Graph was finalized.\n",
      "INFO:tensorflow:Restoring parameters from models/estimator-for-Postures/model.ckpt-0\n",
      "WARNING:tensorflow:From /opt/conda/lib/python3.7/site-packages/tensorflow/python/training/saver.py:1077: get_checkpoint_mtimes (from tensorflow.python.training.checkpoint_management) is deprecated and will be removed in a future version.\n",
      "Instructions for updating:\n",
      "Use standard file utilities to get mtimes.\n",
      "INFO:tensorflow:Running local_init_op.\n",
      "INFO:tensorflow:Done running local_init_op.\n",
      "INFO:tensorflow:Calling checkpoint listeners before saving checkpoint 0...\n",
      "INFO:tensorflow:Saving checkpoints for 0 into models/estimator-for-Postures/model.ckpt.\n",
      "INFO:tensorflow:Calling checkpoint listeners after saving checkpoint 0...\n",
      "INFO:tensorflow:loss = 2.2220013, step = 0\n",
      "INFO:tensorflow:global_step/sec: 29.338\n",
      "INFO:tensorflow:loss = 1.167098, step = 100 (3.410 sec)\n",
      "INFO:tensorflow:global_step/sec: 32.7032\n",
      "INFO:tensorflow:loss = 0.841093, step = 200 (3.058 sec)\n",
      "INFO:tensorflow:global_step/sec: 32.6908\n",
      "INFO:tensorflow:loss = 0.8543205, step = 300 (3.059 sec)\n",
      "INFO:tensorflow:global_step/sec: 32.8468\n",
      "INFO:tensorflow:loss = 0.9013851, step = 400 (3.045 sec)\n",
      "INFO:tensorflow:global_step/sec: 30.2018\n",
      "INFO:tensorflow:loss = 0.70369995, step = 500 (3.310 sec)\n",
      "INFO:tensorflow:global_step/sec: 32.1485\n",
      "INFO:tensorflow:loss = 0.70239544, step = 600 (3.112 sec)\n",
      "INFO:tensorflow:global_step/sec: 33.0771\n",
      "INFO:tensorflow:loss = 0.5317996, step = 700 (3.022 sec)\n",
      "INFO:tensorflow:global_step/sec: 29.761\n",
      "INFO:tensorflow:loss = 0.5888451, step = 800 (3.360 sec)\n",
      "INFO:tensorflow:global_step/sec: 33.1372\n",
      "INFO:tensorflow:loss = 0.6454606, step = 900 (3.018 sec)\n",
      "INFO:tensorflow:global_step/sec: 33.2138\n",
      "INFO:tensorflow:loss = 0.3191297, step = 1000 (3.011 sec)\n",
      "INFO:tensorflow:global_step/sec: 35.3873\n",
      "INFO:tensorflow:loss = 0.7098515, step = 1100 (2.825 sec)\n",
      "INFO:tensorflow:global_step/sec: 35.6955\n",
      "INFO:tensorflow:loss = 0.460021, step = 1200 (2.802 sec)\n",
      "INFO:tensorflow:global_step/sec: 35.2545\n",
      "INFO:tensorflow:loss = 0.5326212, step = 1300 (2.836 sec)\n",
      "INFO:tensorflow:global_step/sec: 35.5188\n",
      "INFO:tensorflow:loss = 0.42862555, step = 1400 (2.817 sec)\n",
      "INFO:tensorflow:global_step/sec: 35.3632\n",
      "INFO:tensorflow:loss = 0.56784064, step = 1500 (2.827 sec)\n",
      "INFO:tensorflow:global_step/sec: 34.049\n",
      "INFO:tensorflow:loss = 0.5222521, step = 1600 (2.937 sec)\n",
      "INFO:tensorflow:global_step/sec: 32.6325\n",
      "INFO:tensorflow:loss = 0.43277177, step = 1700 (3.066 sec)\n",
      "INFO:tensorflow:Calling checkpoint listeners before saving checkpoint 1800...\n",
      "INFO:tensorflow:Saving checkpoints for 1800 into models/estimator-for-Postures/model.ckpt.\n",
      "INFO:tensorflow:Calling checkpoint listeners after saving checkpoint 1800...\n",
      "INFO:tensorflow:Loss for final step: 0.56556404.\n"
     ]
    },
    {
     "data": {
      "text/plain": [
       "<tensorflow_estimator.python.estimator.estimator.EstimatorV2 at 0x7f3c64e9b510>"
      ]
     },
     "execution_count": 28,
     "metadata": {},
     "output_type": "execute_result"
    }
   ],
   "source": [
    "my_estimator = tf.keras.estimator.model_to_estimator(\n",
    "    keras_model=model,\n",
    "    model_dir='models/estimator-for-Postures/')\n",
    "\n",
    "\n",
    "# use the estimator: train/evaluate/predict\n",
    "\n",
    "num_epochs = 15\n",
    "batch_size = 32\n",
    "steps_per_epoch = np.ceil(len(X_train) / batch_size)\n",
    "\n",
    "my_estimator.train(\n",
    "    input_fn=lambda: train_input_fn(X_train, y_train, batch_size),steps=num_epochs * steps_per_epoch)"
   ]
  },
  {
   "cell_type": "markdown",
   "metadata": {},
   "source": [
    "### TensorFlow Estimator Performance Evaluation"
   ]
  },
  {
   "cell_type": "code",
   "execution_count": 29,
   "metadata": {},
   "outputs": [
    {
     "name": "stdout",
     "output_type": "stream",
     "text": [
      "INFO:tensorflow:Calling model_fn.\n",
      "WARNING:tensorflow:From /opt/conda/lib/python3.7/site-packages/tensorflow/python/keras/engine/training_v1.py:2048: Model.state_updates (from tensorflow.python.keras.engine.training) is deprecated and will be removed in a future version.\n",
      "Instructions for updating:\n",
      "This property should not be used in TensorFlow 2.0, as updates are applied automatically.\n",
      "INFO:tensorflow:Done calling model_fn.\n",
      "INFO:tensorflow:Starting evaluation at 2020-08-23T05:13:52Z\n",
      "INFO:tensorflow:Graph was finalized.\n",
      "INFO:tensorflow:Restoring parameters from models/estimator-for-Postures/model.ckpt-1800\n",
      "INFO:tensorflow:Running local_init_op.\n",
      "INFO:tensorflow:Done running local_init_op.\n",
      "INFO:tensorflow:Inference Time : 7.83873s\n",
      "INFO:tensorflow:Finished evaluation at 2020-08-23-05:14:00\n",
      "INFO:tensorflow:Saving dict for global step 1800: accuracy = 0.9145833, categorical_accuracy = 0.25729167, global_step = 1800, loss = 0.38916188\n",
      "INFO:tensorflow:Saving 'checkpoint_path' summary for global step 1800: models/estimator-for-Postures/model.ckpt-1800\n"
     ]
    },
    {
     "data": {
      "text/plain": [
       "{'accuracy': 0.9145833,\n",
       " 'categorical_accuracy': 0.25729167,\n",
       " 'loss': 0.38916188,\n",
       " 'global_step': 1800}"
      ]
     },
     "execution_count": 29,
     "metadata": {},
     "output_type": "execute_result"
    }
   ],
   "source": [
    "my_estimator.evaluate(\n",
    "    input_fn=lambda: eval_input_fn(X_test, y_test, batch_size))"
   ]
  },
  {
   "cell_type": "markdown",
   "metadata": {},
   "source": [
    "### TensorFlow Model Performance Evaluation and Visualization"
   ]
  },
  {
   "cell_type": "markdown",
   "metadata": {},
   "source": [
    "Using the same model as before, but declaring it again because calling the same instance of the model after it has been converted to an estimator causes an error."
   ]
  },
  {
   "cell_type": "code",
   "execution_count": 45,
   "metadata": {},
   "outputs": [],
   "source": [
    "num_classes = 4\n",
    "\n",
    "model = tf.keras.Sequential([\n",
    "    tf.keras.layers.Input(shape=(64,64,1), name='input-features'),\n",
    "    tf.keras.layers.Conv2D(filters=8,strides=(1, 1), kernel_size=(3, 3),padding='same', activation='relu'),\n",
    "    tf.keras.layers.MaxPooling2D(),\n",
    "    tf.keras.layers.Conv2D(filters=16, strides=(1, 1), kernel_size=(3, 3), padding='same', activation='relu'),\n",
    "    tf.keras.layers.MaxPooling2D(pool_size=(2, 2)),\n",
    "    tf.keras.layers.Conv2D(filters=32, strides=(1, 1), kernel_size=(3, 3), padding='same', activation='relu'),\n",
    "    tf.keras.layers.MaxPooling2D(pool_size=(2, 2)),\n",
    "    tf.keras.layers.Flatten(),\n",
    "    tf.keras.layers.Dense(units=32, activation='relu', kernel_regularizer='l2'),\n",
    "    tf.keras.layers.Dropout(rate=0.5),\n",
    "    tf.keras.layers.Dense(units=16, activation='relu', kernel_regularizer='l2'),\n",
    "    tf.keras.layers.Dense(units=num_classes, activation='relu')\n",
    "])\n"
   ]
  },
  {
   "cell_type": "code",
   "execution_count": 46,
   "metadata": {},
   "outputs": [
    {
     "name": "stdout",
     "output_type": "stream",
     "text": [
      "Model: \"sequential_9\"\n",
      "_________________________________________________________________\n",
      "Layer (type)                 Output Shape              Param #   \n",
      "=================================================================\n",
      "conv2d_27 (Conv2D)           (None, 64, 64, 8)         80        \n",
      "_________________________________________________________________\n",
      "max_pooling2d_27 (MaxPooling (None, 32, 32, 8)         0         \n",
      "_________________________________________________________________\n",
      "conv2d_28 (Conv2D)           (None, 32, 32, 16)        1168      \n",
      "_________________________________________________________________\n",
      "max_pooling2d_28 (MaxPooling (None, 16, 16, 16)        0         \n",
      "_________________________________________________________________\n",
      "conv2d_29 (Conv2D)           (None, 16, 16, 32)        4640      \n",
      "_________________________________________________________________\n",
      "max_pooling2d_29 (MaxPooling (None, 8, 8, 32)          0         \n",
      "_________________________________________________________________\n",
      "flatten_9 (Flatten)          (None, 2048)              0         \n",
      "_________________________________________________________________\n",
      "dense_27 (Dense)             (None, 32)                65568     \n",
      "_________________________________________________________________\n",
      "dropout_9 (Dropout)          (None, 32)                0         \n",
      "_________________________________________________________________\n",
      "dense_28 (Dense)             (None, 16)                528       \n",
      "_________________________________________________________________\n",
      "dense_29 (Dense)             (None, 4)                 68        \n",
      "=================================================================\n",
      "Total params: 72,052\n",
      "Trainable params: 72,052\n",
      "Non-trainable params: 0\n",
      "_________________________________________________________________\n"
     ]
    }
   ],
   "source": [
    "model.compile(optimizer='adam',\n",
    "              loss=tf.keras.losses.SparseCategoricalCrossentropy(from_logits=True),\n",
    "              metrics=['accuracy','categorical_accuracy'])\n",
    "model.summary()"
   ]
  },
  {
   "cell_type": "code",
   "execution_count": 47,
   "metadata": {},
   "outputs": [
    {
     "name": "stdout",
     "output_type": "stream",
     "text": [
      "Epoch 1/15\n",
      "120/120 [==============================] - 5s 39ms/step - loss: 1.4228 - accuracy: 0.4940 - categorical_accuracy: 0.4190 - val_loss: 1.0535 - val_accuracy: 0.6281 - val_categorical_accuracy: 0.3750\n",
      "Epoch 2/15\n",
      "120/120 [==============================] - 4s 34ms/step - loss: 1.0207 - accuracy: 0.6208 - categorical_accuracy: 0.3810 - val_loss: 0.8915 - val_accuracy: 0.6625 - val_categorical_accuracy: 0.3760\n",
      "Epoch 3/15\n",
      "120/120 [==============================] - 4s 35ms/step - loss: 0.8907 - accuracy: 0.6534 - categorical_accuracy: 0.3865 - val_loss: 0.7950 - val_accuracy: 0.6792 - val_categorical_accuracy: 0.4260\n",
      "Epoch 4/15\n",
      "120/120 [==============================] - 4s 34ms/step - loss: 0.7803 - accuracy: 0.7781 - categorical_accuracy: 0.3221 - val_loss: 0.6245 - val_accuracy: 0.8708 - val_categorical_accuracy: 0.2479\n",
      "Epoch 5/15\n",
      "120/120 [==============================] - 4s 34ms/step - loss: 0.6595 - accuracy: 0.8302 - categorical_accuracy: 0.2570 - val_loss: 0.5341 - val_accuracy: 0.8813 - val_categorical_accuracy: 0.2396\n",
      "Epoch 6/15\n",
      "120/120 [==============================] - 4s 34ms/step - loss: 0.6030 - accuracy: 0.8474 - categorical_accuracy: 0.2448 - val_loss: 0.5054 - val_accuracy: 0.8813 - val_categorical_accuracy: 0.2552\n",
      "Epoch 7/15\n",
      "120/120 [==============================] - 4s 35ms/step - loss: 0.5492 - accuracy: 0.8701 - categorical_accuracy: 0.2497 - val_loss: 0.4589 - val_accuracy: 0.8990 - val_categorical_accuracy: 0.2573\n",
      "Epoch 8/15\n",
      "120/120 [==============================] - 4s 33ms/step - loss: 0.5285 - accuracy: 0.8745 - categorical_accuracy: 0.2505 - val_loss: 0.4401 - val_accuracy: 0.9000 - val_categorical_accuracy: 0.2698\n",
      "Epoch 9/15\n",
      "120/120 [==============================] - 4s 35ms/step - loss: 0.4940 - accuracy: 0.8810 - categorical_accuracy: 0.2445 - val_loss: 0.4384 - val_accuracy: 0.8917 - val_categorical_accuracy: 0.2396\n",
      "Epoch 10/15\n",
      "120/120 [==============================] - 4s 34ms/step - loss: 0.4971 - accuracy: 0.8841 - categorical_accuracy: 0.2448 - val_loss: 0.4245 - val_accuracy: 0.9052 - val_categorical_accuracy: 0.2438\n",
      "Epoch 11/15\n",
      "120/120 [==============================] - 4s 34ms/step - loss: 0.4817 - accuracy: 0.8820 - categorical_accuracy: 0.2464 - val_loss: 0.4282 - val_accuracy: 0.8969 - val_categorical_accuracy: 0.2365\n",
      "Epoch 12/15\n",
      "120/120 [==============================] - 5s 39ms/step - loss: 0.4527 - accuracy: 0.8966 - categorical_accuracy: 0.2451 - val_loss: 0.4141 - val_accuracy: 0.9083 - val_categorical_accuracy: 0.2500\n",
      "Epoch 13/15\n",
      "120/120 [==============================] - 4s 34ms/step - loss: 0.4639 - accuracy: 0.8893 - categorical_accuracy: 0.2443 - val_loss: 0.4228 - val_accuracy: 0.9073 - val_categorical_accuracy: 0.2552\n",
      "Epoch 14/15\n",
      "120/120 [==============================] - 4s 33ms/step - loss: 0.4339 - accuracy: 0.8969 - categorical_accuracy: 0.2458 - val_loss: 0.4180 - val_accuracy: 0.9021 - val_categorical_accuracy: 0.2438\n",
      "Epoch 15/15\n",
      "120/120 [==============================] - 4s 34ms/step - loss: 0.4363 - accuracy: 0.9005 - categorical_accuracy: 0.2438 - val_loss: 0.3992 - val_accuracy: 0.9104 - val_categorical_accuracy: 0.2490\n"
     ]
    }
   ],
   "source": [
    "BATCH_SIZE = 32\n",
    "NUM_EPOCHS = 15\n",
    "TRAINING_SIZE=3840\n",
    "\n",
    "steps_per_epoch = np.ceil(TRAINING_SIZE / BATCH_SIZE)\n",
    "\n",
    "history=model.fit(demo_train, validation_data=demo_val, \n",
    "                 epochs=NUM_EPOCHS,steps_per_epoch=steps_per_epoch, batch_size=BATCH_SIZE)"
   ]
  },
  {
   "cell_type": "code",
   "execution_count": 48,
   "metadata": {},
   "outputs": [
    {
     "data": {
      "image/png": "[encoded data removed]",
      "text/plain": [
       "<Figure size 864x288 with 2 Axes>"
      ]
     },
     "metadata": {
      "needs_background": "light"
     },
     "output_type": "display_data"
    }
   ],
   "source": [
    "hist = history.history\n",
    "x_arr = np.arange(len(hist['loss'])) + 1\n",
    "\n",
    "fig = plt.figure(figsize=(12, 4))\n",
    "ax = fig.add_subplot(1, 2, 1)\n",
    "ax.plot(x_arr, hist['loss'], '-o', label='Train loss')\n",
    "ax.plot(x_arr, hist['val_loss'], '--<', label='Validation loss')\n",
    "ax.legend(fontsize=15)\n",
    "ax.set_xlabel('Epoch', size=15)\n",
    "ax.set_ylabel('Loss', size=15)\n",
    "\n",
    "ax = fig.add_subplot(1, 2, 2)\n",
    "ax.plot(x_arr, hist['accuracy'], '-o', label='Train acc.')\n",
    "ax.plot(x_arr, hist['val_accuracy'], '--<', label='Validation acc.')\n",
    "ax.legend(fontsize=15)\n",
    "ax.set_xlabel('Epoch', size=15)\n",
    "ax.set_ylabel('Accuracy', size=15)\n",
    "\n",
    "#plt.savefig('figures/15_18.png', dpi=300)\n",
    "plt.show()"
   ]
  },
  {
   "cell_type": "markdown",
   "metadata": {},
   "source": [
    "### Results"
   ]
  },
  {
   "cell_type": "markdown",
   "metadata": {},
   "source": [
    "Using epochs=15, and batch size=32, we were able to achieve a 91.5% accuracy on our validation data with our custom estimator. Therefore, our CNN was able to successfully classify human silhouette photos with 91.5% accuracy.\n",
    "\n",
    "With the same parameters and data, we re-ran our model using fit instead of the estimator and found very similar results with validation accuracy of 91% and a training accuracy of 90%.\n",
    "\n",
    "After about epoch 15, overfitting begins to occur. The graph of accuracy above extrapolated further would clearly indicate overfitting, so we stop at 15.\n",
    "\n",
    "Overall, our model performs well, but further tuning of the hyperparameters in each layer of the CNN should help to increase accuracy on new data. "
   ]
  }
 ],
 "metadata": {
  "kernelspec": {
   "display_name": "Python 3",
   "language": "python",
   "name": "python3"
  },
  "language_info": {
   "codemirror_mode": {
    "name": "ipython",
    "version": 3
   },
   "file_extension": ".py",
   "mimetype": "text/x-python",
   "name": "python",
   "nbconvert_exporter": "python",
   "pygments_lexer": "ipython3",
   "version": "3.7.6"
  }
 },
 "nbformat": 4,
 "nbformat_minor": 4
}
